{
 "cells": [
  {
   "cell_type": "markdown",
   "id": "cba8de6e",
   "metadata": {},
   "source": [
    "Q1. Write a program to find all pairs of an integer array whose sum is equal to a given number?"
   ]
  },
  {
   "cell_type": "code",
   "execution_count": 2,
   "id": "de6b6b6c",
   "metadata": {},
   "outputs": [
    {
     "name": "stdout",
     "output_type": "stream",
     "text": [
      "[(4, 3), (5, 2), (6, 1)]\n"
     ]
    }
   ],
   "source": [
    "def find_pairs_with_sum(arr, target_sum):\n",
    "    pairs = []\n",
    "    seen = set()\n",
    "\n",
    "    for num in arr:\n",
    "        complement = target_sum - num\n",
    "        if complement in seen:\n",
    "            pairs.append((num, complement))\n",
    "        seen.add(num)\n",
    "    return pairs\n",
    "arr = [1, 2, 3, 4, 5, 6]\n",
    "target_sum = 7\n",
    "result = find_pairs_with_sum(arr, target_sum)\n",
    "print(result) \n"
   ]
  },
  {
   "cell_type": "markdown",
   "id": "fa7fe06c",
   "metadata": {},
   "source": [
    "Q2. Write a program to reverse an array in place? In place means you\n",
    "cannot create a new array. You have to update the original array."
   ]
  },
  {
   "cell_type": "code",
   "execution_count": 4,
   "id": "da07f29c",
   "metadata": {},
   "outputs": [
    {
     "name": "stdout",
     "output_type": "stream",
     "text": [
      "[5, 4, 3, 2, 1]\n"
     ]
    }
   ],
   "source": [
    "def reverse_array_in_place(arr):\n",
    "    left, right = 0, len(arr) - 1\n",
    "    while left < right:\n",
    "        arr[left], arr[right] = arr[right], arr[left]\n",
    "        left += 1\n",
    "        right -= 1\n",
    "arr = [1, 2, 3, 4, 5]\n",
    "reverse_array_in_place(arr)\n",
    "print(arr) \n"
   ]
  },
  {
   "cell_type": "markdown",
   "id": "da000fde",
   "metadata": {},
   "source": [
    "Q3. Write a program to check if two strings are a rotation of each other?"
   ]
  },
  {
   "cell_type": "code",
   "execution_count": 5,
   "id": "abd27811",
   "metadata": {},
   "outputs": [
    {
     "name": "stdout",
     "output_type": "stream",
     "text": [
      "True\n"
     ]
    }
   ],
   "source": [
    "def are_rotations(str1, str2):\n",
    "    if len(str1) != len(str2):\n",
    "        return False\n",
    "    concatenated = str1 + str1\n",
    "    return str2 in concatenated\n",
    "str1 = \"abcde\"\n",
    "str2 = \"cdeab\"\n",
    "print(are_rotations(str1, str2)) \n"
   ]
  },
  {
   "cell_type": "markdown",
   "id": "6dea97bf",
   "metadata": {},
   "source": [
    "Q4. Write a program to print the first non-repeated character from a string?"
   ]
  },
  {
   "cell_type": "code",
   "execution_count": 6,
   "id": "4f4c125b",
   "metadata": {},
   "outputs": [
    {
     "name": "stdout",
     "output_type": "stream",
     "text": [
      "b\n"
     ]
    }
   ],
   "source": [
    "def first_non_repeated_char(string):\n",
    "    char_count = {}\n",
    "    for char in string:\n",
    "        char_count[char] = char_count.get(char, 0) + 1\n",
    "    for char in string:\n",
    "        if char_count[char] == 1:\n",
    "            return char\n",
    "    return None\n",
    "input_string = \"aabccdeeffgghh\"\n",
    "result = first_non_repeated_char(input_string)\n",
    "print(result) \n"
   ]
  },
  {
   "cell_type": "markdown",
   "id": "0783c369",
   "metadata": {},
   "source": [
    "Q5. Read about the Tower of Hanoi algorithm. Write a program to implement it."
   ]
  },
  {
   "cell_type": "code",
   "execution_count": 7,
   "id": "f3257c92",
   "metadata": {},
   "outputs": [
    {
     "name": "stdout",
     "output_type": "stream",
     "text": [
      "Move disk 1 from A to C\n",
      "Move disk 2 from A to B\n",
      "Move disk 1 from C to B\n",
      "Move disk 3 from A to C\n",
      "Move disk 1 from B to A\n",
      "Move disk 2 from B to C\n",
      "Move disk 1 from A to C\n"
     ]
    }
   ],
   "source": [
    "def tower_of_hanoi(n, source, destination, auxiliary):\n",
    "    if n == 1:\n",
    "        print(f\"Move disk 1 from {source} to {destination}\")\n",
    "        return\n",
    "    tower_of_hanoi(n-1, source, auxiliary, destination)\n",
    "    print(f\"Move disk {n} from {source} to {destination}\")\n",
    "    tower_of_hanoi(n-1, auxiliary, destination, source)\n",
    "num_disks = 3\n",
    "tower_of_hanoi(num_disks, 'A', 'C', 'B')\n"
   ]
  },
  {
   "cell_type": "markdown",
   "id": "5ad090e1",
   "metadata": {},
   "source": [
    "Q6. Read about infix, prefix, and postfix expressions. Write a program to convert postfix to prefix expression."
   ]
  },
  {
   "cell_type": "code",
   "execution_count": 8,
   "id": "0e423522",
   "metadata": {},
   "outputs": [
    {
     "name": "stdout",
     "output_type": "stream",
     "text": [
      "+*234\n"
     ]
    }
   ],
   "source": [
    "def is_operator(char):\n",
    "    return char in \"+-*/^\"\n",
    "def postfix_to_prefix(postfix_expr):\n",
    "    stack = []\n",
    "    operators = set(\"+-*/^\")\n",
    "    for char in postfix_expr:\n",
    "        if char not in operators:\n",
    "            stack.append(char)\n",
    "        else:\n",
    "            operand2 = stack.pop()\n",
    "            operand1 = stack.pop()\n",
    "            prefix_expr = char + operand1 + operand2\n",
    "            stack.append(prefix_expr)\n",
    "    return stack.pop()\n",
    "postfix_expression = \"23*4+\"\n",
    "prefix_expression = postfix_to_prefix(postfix_expression)\n",
    "print(prefix_expression)  \n"
   ]
  },
  {
   "cell_type": "markdown",
   "id": "c1289f5a",
   "metadata": {},
   "source": [
    "\n",
    "Q7. Write a program to convert prefix expression to infix expression."
   ]
  },
  {
   "cell_type": "code",
   "execution_count": 9,
   "id": "f13159bd",
   "metadata": {},
   "outputs": [
    {
     "name": "stdout",
     "output_type": "stream",
     "text": [
      "((2*3)+4)\n"
     ]
    }
   ],
   "source": [
    "def is_operator(char):\n",
    "    return char in \"+-*/^\"\n",
    "def prefix_to_infix(prefix_expr):\n",
    "    stack = []\n",
    "    operators = set(\"+-*/^\")\n",
    "    for char in reversed(prefix_expr):\n",
    "        if not is_operator(char):\n",
    "            stack.append(char)\n",
    "        else:\n",
    "            operand1 = stack.pop()\n",
    "            operand2 = stack.pop()\n",
    "            infix_expr = f\"({operand1}{char}{operand2})\"\n",
    "            stack.append(infix_expr)\n",
    "    return stack.pop()\n",
    "prefix_expression = \"+*234\"\n",
    "infix_expression = prefix_to_infix(prefix_expression)\n",
    "print(infix_expression) \n"
   ]
  },
  {
   "cell_type": "markdown",
   "id": "4449253f",
   "metadata": {},
   "source": [
    "Q8. Write a program to check if all the brackets are closed in a given code snippet."
   ]
  },
  {
   "cell_type": "code",
   "execution_count": 13,
   "id": "8a2c2130",
   "metadata": {},
   "outputs": [
    {
     "name": "stdout",
     "output_type": "stream",
     "text": [
      "True\n",
      "False\n"
     ]
    }
   ],
   "source": [
    "def are_brackets_closed(code):\n",
    "    stack = []\n",
    "    brackets_map = {\n",
    "        '}': '{',\n",
    "        ']': '[',\n",
    "        ')': '('\n",
    "    }\n",
    "\n",
    "    for char in code:\n",
    "        if char in \"{[(\":\n",
    "            stack.append(char)\n",
    "        elif char in \"}])\":\n",
    "            if not stack or brackets_map[char] != stack.pop():\n",
    "                return False\n",
    "    return not stack\n",
    "code_snippet = \"{[a + (b + c)] * d}\"\n",
    "result = are_brackets_closed(code_snippet)\n",
    "print(result)  \n",
    "code_snippet = \"{[a + (b + c)] * d\"\n",
    "result = are_brackets_closed(code_snippet)\n",
    "print(result)\n"
   ]
  },
  {
   "cell_type": "markdown",
   "id": "65215437",
   "metadata": {},
   "source": [
    "Q9. Write a program to reverse a stack."
   ]
  },
  {
   "cell_type": "code",
   "execution_count": 21,
   "id": "378143be",
   "metadata": {},
   "outputs": [
    {
     "name": "stdout",
     "output_type": "stream",
     "text": [
      "Original Stack: [1, 2, 3, 4]\n",
      "Reversed Stack: [4, 3, 2, 1]\n"
     ]
    }
   ],
   "source": [
    "class Stack:\n",
    "    def __init__(self):\n",
    "        self.items = []\n",
    "\n",
    "    def is_empty(self):\n",
    "        return len(self.items) == 0\n",
    "\n",
    "    def push(self, item):\n",
    "        self.items.append(item)\n",
    "\n",
    "    def pop(self):\n",
    "        if not self.is_empty():\n",
    "            return self.items.pop()\n",
    "\n",
    "    def peek(self):\n",
    "        if not self.is_empty():\n",
    "            return self.items[-1]\n",
    "\n",
    "    def size(self):\n",
    "        return len(self.items)\n",
    "\n",
    "    def reverse(self):\n",
    "        if not self.is_empty():\n",
    "            item = self.pop()\n",
    "            self.reverse()\n",
    "            self.insert_at_bottom(item)\n",
    "    def insert_at_bottom(self, item):\n",
    "        if self.is_empty():\n",
    "            self.push(item)\n",
    "        else:\n",
    "            temp = self.pop()\n",
    "            self.insert_at_bottom(item)\n",
    "            self.push(temp)\n",
    "stack = Stack()\n",
    "stack.push(1)\n",
    "stack.push(2)\n",
    "stack.push(3)\n",
    "stack.push(4)\n",
    "print(\"Original Stack:\", stack.items)  \n",
    "stack.reverse()\n",
    "print(\"Reversed Stack:\", stack.items)  \n"
   ]
  },
  {
   "cell_type": "markdown",
   "id": "71caeb21",
   "metadata": {},
   "source": [
    "Q10. Write a program to find the smallest number using a stack."
   ]
  },
  {
   "cell_type": "code",
   "execution_count": 19,
   "id": "d5c83f59",
   "metadata": {},
   "outputs": [
    {
     "name": "stdout",
     "output_type": "stream",
     "text": [
      "Smallest number in the stack: 1\n",
      "Smallest number in the stack: 2\n"
     ]
    }
   ],
   "source": [
    "class Stack:\n",
    "    def __init__(self):\n",
    "        self.items = []\n",
    "    def is_empty(self):\n",
    "        return len(self.items) == 0\n",
    "    def push(self, item):\n",
    "        self.items.append(item)\n",
    "    def pop(self):\n",
    "        if not self.is_empty():\n",
    "            return self.items.pop()\n",
    "    def peek(self):\n",
    "        if not self.is_empty():\n",
    "            return self.items[-1]\n",
    "    def size(self):\n",
    "        return len(self.items)\n",
    "class MinStack:\n",
    "    def __init__(self):\n",
    "        self.main_stack = Stack()\n",
    "        self.min_stack = Stack()\n",
    "    def push(self, item):\n",
    "        self.main_stack.push(item)\n",
    "        if self.min_stack.is_empty() or item <= self.min_stack.peek():\n",
    "            self.min_stack.push(item)\n",
    "    def pop(self):\n",
    "        if not self.main_stack.is_empty():\n",
    "            item = self.main_stack.pop()\n",
    "            if item == self.min_stack.peek():\n",
    "                self.min_stack.pop()\n",
    "            return item\n",
    "    def get_min(self):\n",
    "        return self.min_stack.peek()\n",
    "min_stack = MinStack()\n",
    "min_stack.push(3)\n",
    "min_stack.push(5)\n",
    "min_stack.push(2)\n",
    "min_stack.push(1)\n",
    "print(\"Smallest number in the stack:\", min_stack.get_min())  \n",
    "min_stack.pop()\n",
    "print(\"Smallest number in the stack:\", min_stack.get_min()) \n"
   ]
  },
  {
   "cell_type": "code",
   "execution_count": null,
   "id": "2d5bf3ef",
   "metadata": {},
   "outputs": [],
   "source": []
  }
 ],
 "metadata": {
  "kernelspec": {
   "display_name": "Python 3 (ipykernel)",
   "language": "python",
   "name": "python3"
  },
  "language_info": {
   "codemirror_mode": {
    "name": "ipython",
    "version": 3
   },
   "file_extension": ".py",
   "mimetype": "text/x-python",
   "name": "python",
   "nbconvert_exporter": "python",
   "pygments_lexer": "ipython3",
   "version": "3.11.3"
  }
 },
 "nbformat": 4,
 "nbformat_minor": 5
}
